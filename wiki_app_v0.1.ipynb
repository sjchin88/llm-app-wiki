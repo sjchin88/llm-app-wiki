{
 "cells": [
  {
   "cell_type": "markdown",
   "id": "f820b342-e59c-41fa-97c7-e23b63c35f0a",
   "metadata": {},
   "source": [
    "# Summary Step\n",
    "\n",
    "1. Load the environment variable\n",
    "2. Load the pdf documents\n",
    "3. Split it into chunks\n",
    "4. Convert it to embedding and store it into a vector database\n",
    "5. Explore Retriever\n",
    "6. Chain with LCEL, Input & Output formatter\n"
   ]
  },
  {
   "cell_type": "markdown",
   "id": "3386729c-e031-4bbf-abc3-86f8065793ee",
   "metadata": {},
   "source": [
    "## Step 1 - Load the env"
   ]
  },
  {
   "cell_type": "code",
   "execution_count": 2,
   "id": "55aa83bc-7e48-4142-9472-b760cd43b3ba",
   "metadata": {},
   "outputs": [],
   "source": [
    "import os\n",
    "from dotenv import load_dotenv, find_dotenv\n",
    "_ = load_dotenv(find_dotenv())\n",
    "openai_api_key = os.environ[\"OPENAI_API_KEY\"]\n"
   ]
  },
  {
   "cell_type": "markdown",
   "id": "46293f29-b813-434c-9e5f-e125b5a9f124",
   "metadata": {},
   "source": [
    "## Step 2 - Load the pdf document"
   ]
  },
  {
   "cell_type": "code",
   "execution_count": 3,
   "id": "a6a3a1fe-f564-4374-9e34-8fedd49ccac9",
   "metadata": {},
   "outputs": [
    {
     "name": "stdout",
     "output_type": "stream",
     "text": [
      "5\n",
      " A Convolution Neural Network for Plant Species \n",
      "Identification  \n",
      "Shiang Jin, Chin   \n",
      "Khoury College\n",
      "{'source': './data/A_Convolution_Neural_Network_for_Plant_Species_Identification_report.pdf', 'page': 0}\n"
     ]
    }
   ],
   "source": [
    "from langchain_community.document_loaders import PyPDFLoader\n",
    "\n",
    "file_path = \"./data/A_Convolution_Neural_Network_for_Plant_Species_Identification_report.pdf\"\n",
    "\n",
    "pdf_loader = PyPDFLoader(file_path)\n",
    "\n",
    "docs = pdf_loader.load()\n",
    "\n",
    "# Test print to check the content\n",
    "print(len(docs))\n",
    "print(docs[0].page_content[0:100])\n",
    "print(docs[0].metadata)"
   ]
  },
  {
   "cell_type": "markdown",
   "id": "9275c2a4-0344-4d53-a705-6fa9d6e10a1f",
   "metadata": {},
   "source": [
    "## Step 3 - Split it into the chunk"
   ]
  },
  {
   "cell_type": "code",
   "execution_count": 4,
   "id": "a53fffdc-0285-4022-9b21-57177176fcb8",
   "metadata": {},
   "outputs": [],
   "source": [
    "from langchain_text_splitters import RecursiveCharacterTextSplitter\n",
    "\n",
    "text_splitter = RecursiveCharacterTextSplitter(chunk_size=1000, chunk_overlap=200)\n",
    "\n",
    "splits = text_splitter.split_documents(docs)"
   ]
  },
  {
   "cell_type": "code",
   "execution_count": 6,
   "id": "beb7a924-c738-4f5c-b891-e22c70395b6f",
   "metadata": {},
   "outputs": [
    {
     "name": "stdout",
     "output_type": "stream",
     "text": [
      "<class 'list'>\n",
      "28\n",
      "page_content='A Convolution Neural Network for Plant Species \n",
      "Identification  \n",
      "Shiang Jin, Chin   \n",
      "Khoury College of Computer Science  \n",
      "Northeastern University  \n",
      "Seattle, WA  \n",
      "chin.shi@northeastern.edu     \n",
      "Abstract . In this paper , I describe the training of machine \n",
      "learning models based on convolution neural network \n",
      "architecture for the image classification task of identifying plant \n",
      "species based on the leaves.  Throughout the paper, I document \n",
      "the various experiments with different model architectures and \n",
      "their corresponding results.  The best -performing model uses a \n",
      "pre-trained ResNet -50 model fine-tuned to classify plant species \n",
      "based on leaves. The model performs better and computes faster \n",
      "on the Leafsnap dataset compared to the recognition system \n",
      "developed before.  \n",
      "Keywords —convolution neural network , ResNet -50, Leafsnap \n",
      "database   \n",
      "I. INTRODUCTION  \n",
      "In this work, I describe the experiments carried out to train \n",
      "a machine learning model based on a Convolution Neural' metadata={'source': './data/A_Convolution_Neural_Network_for_Plant_Species_Identification_report.pdf', 'page': 0}\n"
     ]
    }
   ],
   "source": [
    "# Test print to understand property of splits\n",
    "print(type(splits))\n",
    "print(len(splits))\n",
    "print(splits[0])"
   ]
  },
  {
   "cell_type": "markdown",
   "id": "ffda84fc-6432-4001-a64a-81dafe9fdaac",
   "metadata": {},
   "source": [
    "## Step 4 - Convert the chunks into Embedding and Store into a Vector DB"
   ]
  },
  {
   "cell_type": "code",
   "execution_count": 9,
   "id": "26bc0e88-e71a-4c2c-8a80-156266715451",
   "metadata": {},
   "outputs": [],
   "source": [
    "from langchain_openai import OpenAIEmbeddings\n",
    "from langchain_chroma import Chroma\n",
    "embeddings_model = OpenAIEmbeddings()\n",
    "\n",
    "# Directly create a vector store\n",
    "vector_db = Chroma.from_documents(documents=splits, embedding=embeddings_model, persist_directory=\"./data/test_wiki_db\")"
   ]
  },
  {
   "cell_type": "markdown",
   "id": "3e800f6a-b766-434b-b000-923f86e4a7ef",
   "metadata": {},
   "source": [
    "## Step 5-1 - Explore similarity search of Vector_db\n",
    "\n",
    "Similarity_search is useful to quickly search and retrieve stored information most relevant to the question"
   ]
  },
  {
   "cell_type": "code",
   "execution_count": 11,
   "id": "8fc7b670-b092-48c1-932b-6553bd3506d1",
   "metadata": {},
   "outputs": [
    {
     "name": "stdout",
     "output_type": "stream",
     "text": [
      "A Convolution Neural Network for Plant Species \n",
      "Identification  \n",
      "Shiang Jin, Chin   \n",
      "Khoury College of Computer Science  \n",
      "Northeastern University  \n",
      "Seattle, WA  \n",
      "chin.shi@northeastern.edu     \n",
      "Abstract . In this paper , I describe the training of machine \n",
      "learning models based on convolution neural network \n",
      "architecture for the image classification task of identifying plant \n",
      "species based on the leaves.  Throughout the paper, I document \n",
      "the various experiments with different model architectures and \n",
      "their corresponding results.  The best -performing model uses a \n",
      "pre-trained ResNet -50 model fine-tuned to classify plant species \n",
      "based on leaves. The model performs better and computes faster \n",
      "on the Leafsnap dataset compared to the recognition system \n",
      "developed before.  \n",
      "Keywords —convolution neural network , ResNet -50, Leafsnap \n",
      "database   \n",
      "I. INTRODUCTION  \n",
      "In this work, I describe the experiments carried out to train \n",
      "a machine learning model based on a Convolution Neural\n"
     ]
    }
   ],
   "source": [
    "question = \"How is convolution neural network used by the author?\"\n",
    "response = vector_db.similarity_search(question)\n",
    "print(response[0].page_content)"
   ]
  },
  {
   "cell_type": "markdown",
   "id": "7fd18187-7ff2-40ff-86de-90bcd7d1a0d3",
   "metadata": {},
   "source": [
    "## Step 5-2 Explore Vector_db as retriever\n",
    "retriever can be chained to make more complex application"
   ]
  },
  {
   "cell_type": "code",
   "execution_count": 12,
   "id": "7c5ecb76-4295-4b40-bfbc-f995e5107650",
   "metadata": {},
   "outputs": [
    {
     "name": "stdout",
     "output_type": "stream",
     "text": [
      "[Document(metadata={'page': 0, 'source': './data/A_Convolution_Neural_Network_for_Plant_Species_Identification_report.pdf'}, page_content='A Convolution Neural Network for Plant Species \\nIdentification  \\nShiang Jin, Chin   \\nKhoury College of Computer Science  \\nNortheastern University  \\nSeattle, WA  \\nchin.shi@northeastern.edu     \\nAbstract . In this paper , I describe the training of machine \\nlearning models based on convolution neural network \\narchitecture for the image classification task of identifying plant \\nspecies based on the leaves.  Throughout the paper, I document \\nthe various experiments with different model architectures and \\ntheir corresponding results.  The best -performing model uses a \\npre-trained ResNet -50 model fine-tuned to classify plant species \\nbased on leaves. The model performs better and computes faster \\non the Leafsnap dataset compared to the recognition system \\ndeveloped before.  \\nKeywords —convolution neural network , ResNet -50, Leafsnap \\ndatabase   \\nI. INTRODUCTION  \\nIn this work, I describe the experiments carried out to train \\na machine learning model based on a Convolution Neural'), Document(metadata={'page': 0, 'source': './data/A_Convolution_Neural_Network_for_Plant_Species_Identification_report.pdf'}, page_content='the target within the top 5 matches with a computation time of \\nabout 5 seconds [2]. While the accuracy score and \\ncomputation  time are good enough  for practical daily usage, \\nthe question arise s can we achieve a higher accuracy score, \\nusing a simpler process (without the need for segmentation), \\nand using less computation time?   \\nThe convolutional neural network  (CNN)  is the most \\nfamous and commonly employed algorithm in the deep  \\nlearning field used for image classification. One of the main \\nbenefits of CNN is that it automatically identifies the relevant \\nfeatures and the filters required to extract the features without \\nany human supervision [3]. Thus, compared  to the system \\nused by Leafsnap, a CNN -based model has the potential to \\noptimize the four-step process together  and achieve  a better \\naccuracy score. The other potential advantage  of CNN based \\nmodel is it can offer a fixed computation time for the \\nclassification once the model is trained, whereas for the'), Document(metadata={'page': 0, 'source': './data/A_Convolution_Neural_Network_for_Plant_Species_Identification_report.pdf'}, page_content='database   \\nI. INTRODUCTION  \\nIn this work, I describe the experiments carried out to train \\na machine learning model based on a Convolution Neural \\nNetwork to classify plant species based on their leaves. The \\nresearch idea was inspired by the Greenstand Project [1]. But \\nthe datasets used,  and the previous works referenced were \\nfrom the Leafsnap dataset and system [2].  \\nThe Leafsnap system utilized a four-step process (see \\nsection II.B) where good segmentation  to separate the leaf \\nfrom the background  is crucial for the system  [2]. The \\nclassification is based on computing the histograms of \\ncurvature over scale (HoCS) as the feature vectors and \\ncomparing them  with the precomputed feature of a labeled \\ndataset.  The system achieved an accuracy score of 96.8% for \\nthe target within the top 5 matches with a computation time of \\nabout 5 seconds [2]. While the accuracy score and \\ncomputation  time are good enough  for practical daily usage,'), Document(metadata={'page': 1, 'source': './data/A_Convolution_Neural_Network_for_Plant_Species_Identification_report.pdf'}, page_content='1. It consists of two convolution stacks followed by a fully \\nconnected stack. All model components are derived from the \\ntorch nn.Module class.  \\nThe first convolution stack is built from a convolution \\nlayer converting one channel (grayscale image) into 10 \\nchannels with 5  x 5 filters and valid padding, followed by a \\nmax pooling layer with a 2  x 2 window and a ReLU function \\nat the end.  \\nThe second convolution stack is built from a convolution \\nlayer converting the ten channels output from the first \\nconvolution stack into twenty channels with 5x5 filters and \\nvalid padding. Thereafter a dropout layer with a 0.5 dropout \\nrate is applied, before feeding the input into a max pooling \\nlayer with a 2 x 2 window with a ReLU function at the end.  \\nOutput from the second convolution stack is fed into the \\nfully connected stack for final classification. The output is first \\nflattened into one -dimensional data and  passed into the first')]\n"
     ]
    }
   ],
   "source": [
    "retriever = vector_db.as_retriever()\n",
    "response = retriever.invoke(question)\n",
    "print(response)"
   ]
  },
  {
   "cell_type": "markdown",
   "id": "3df5c041-42d3-4df4-b1cd-6997182c4034",
   "metadata": {},
   "source": [
    "## Step 6 - Chain with LCEL, input and output formatters"
   ]
  },
  {
   "cell_type": "code",
   "execution_count": 14,
   "id": "89b69c31-a21a-413b-a3e1-9a112c5e0ee6",
   "metadata": {},
   "outputs": [],
   "source": [
    "from langchain_openai import ChatOpenAI\n",
    "from langchain_core.output_parsers import StrOutputParser\n",
    "from langchain_core.prompts import ChatPromptTemplate\n",
    "from langchain_core.runnables import RunnablePassthrough\n",
    "\n",
    "# Helper method to join the documents\n",
    "def format_docs(docs):\n",
    "    return \"\\n\\n\".join(doc.page_content for doc in docs)\n",
    "    \n",
    "# This prompt should provide answer based on the context\n",
    "prompt = ChatPromptTemplate.from_template(\n",
    "    \"\"\"\n",
    "    Answer the question based only on the context provided.\n",
    "    Context: {context}\n",
    "    Question: {question}\n",
    "    \"\"\"\n",
    ")\n",
    "model = ChatOpenAI(model=\"gpt-4o-mini\")\n",
    "# Chaining retriever with format_docs to context should \n",
    "# retrieve the documents related to the document\n",
    "chain = (\n",
    "    {\"context\": retriever | format_docs, \"question\": RunnablePassthrough()}\n",
    "    | prompt\n",
    "    | model\n",
    "    | StrOutputParser()\n",
    ")"
   ]
  },
  {
   "cell_type": "code",
   "execution_count": 15,
   "id": "d3ea0c7d-aa27-46d0-8876-b60768759756",
   "metadata": {},
   "outputs": [],
   "source": [
    "# Test the response\n",
    "response = chain.invoke(question)"
   ]
  },
  {
   "cell_type": "code",
   "execution_count": 16,
   "id": "367c07a5-56ca-44e1-9b7c-5e83fc58d87b",
   "metadata": {},
   "outputs": [
    {
     "name": "stdout",
     "output_type": "stream",
     "text": [
      "The author uses a Convolution Neural Network (CNN) to classify plant species based on images of their leaves. The CNN automatically identifies relevant features and filters needed for feature extraction without human supervision. The author describes various experiments with different model architectures, ultimately finding that a fine-tuned pre-trained ResNet-50 model performs best for this task, achieving higher accuracy and faster computation on the Leafsnap dataset compared to a previous four-step process used by the Leafsnap system. The CNN model optimizes the classification process and offers fixed computation time once trained.\n"
     ]
    }
   ],
   "source": [
    "print(response)"
   ]
  },
  {
   "cell_type": "code",
   "execution_count": null,
   "id": "03553584-0190-41b0-9581-bac5537a15fa",
   "metadata": {},
   "outputs": [],
   "source": []
  }
 ],
 "metadata": {
  "kernelspec": {
   "display_name": "Python 3 (ipykernel)",
   "language": "python",
   "name": "python3"
  },
  "language_info": {
   "codemirror_mode": {
    "name": "ipython",
    "version": 3
   },
   "file_extension": ".py",
   "mimetype": "text/x-python",
   "name": "python",
   "nbconvert_exporter": "python",
   "pygments_lexer": "ipython3",
   "version": "3.12.5"
  }
 },
 "nbformat": 4,
 "nbformat_minor": 5
}
