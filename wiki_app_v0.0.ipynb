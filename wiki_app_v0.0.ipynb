{
 "cells": [
  {
   "cell_type": "markdown",
   "id": "f820b342-e59c-41fa-97c7-e23b63c35f0a",
   "metadata": {},
   "source": [
    "# Summary \n",
    "\n",
    "Testing out the WikipediaRetriever of LangChain, \n",
    "Official documentation link: https://python.langchain.com/v0.2/docs/integrations/retrievers/wikipedia/\n"
   ]
  },
  {
   "cell_type": "markdown",
   "id": "3386729c-e031-4bbf-abc3-86f8065793ee",
   "metadata": {},
   "source": [
    "## Step 1 - Load the env"
   ]
  },
  {
   "cell_type": "code",
   "execution_count": 5,
   "id": "55aa83bc-7e48-4142-9472-b760cd43b3ba",
   "metadata": {},
   "outputs": [],
   "source": [
    "import os\n",
    "from dotenv import load_dotenv, find_dotenv\n",
    "_ = load_dotenv(find_dotenv())\n",
    "openai_api_key = os.environ[\"OPENAI_API_KEY\"]\n"
   ]
  },
  {
   "cell_type": "markdown",
   "id": "110fcf8c-be6d-4dc3-9719-de1f60ea9e32",
   "metadata": {},
   "source": [
    "## Step 2 Instantiate the retriever"
   ]
  },
  {
   "cell_type": "code",
   "execution_count": 1,
   "id": "13ee0325-43b9-4133-9e49-dd690f3eb0d1",
   "metadata": {},
   "outputs": [],
   "source": [
    "from langchain_community.retrievers import WikipediaRetriever\n",
    "\n",
    "retriever = WikipediaRetriever()"
   ]
  },
  {
   "cell_type": "markdown",
   "id": "e2b48cd2-dd3c-4801-9a79-b7cbde354138",
   "metadata": {},
   "source": [
    "## Step 3 Basic Usage"
   ]
  },
  {
   "cell_type": "code",
   "execution_count": 3,
   "id": "33990c59-da42-4bae-a5aa-f4f7f8fa0b4a",
   "metadata": {},
   "outputs": [
    {
     "name": "stdout",
     "output_type": "stream",
     "text": [
      "Malaysia is a country in Southeast Asia. The federal constitutional monarchy consists of 13 states and three federal territories, separated by the South China Sea into two regions: Peninsular Malaysia and Borneo's East Malaysia. Peninsular Malaysia shares a land and maritime border with Thailand and maritime borders with Singapore, Vietnam, and Indonesia. East Malaysia shares land and maritime bor\n"
     ]
    }
   ],
   "source": [
    "docs = retriever.invoke(\"Malaysia\")\n",
    "# Print first 400 chars of the content\n",
    "print(docs[0].page_content[:400])"
   ]
  },
  {
   "cell_type": "markdown",
   "id": "0df2a194-f821-4dee-8413-6003fdce4dbf",
   "metadata": {},
   "source": [
    "We want to link it with a chain, so we can ask more specific questions \n",
    "We will need:\n",
    "1. An llm model\n",
    "2. A prompt template\n",
    "3. Processing function for the docs retrieved from WikiRetriever\n",
    "   "
   ]
  },
  {
   "cell_type": "markdown",
   "id": "1651229e-7180-4525-878f-17235f4cdbe5",
   "metadata": {},
   "source": [
    "## Step 4 - 1 Instantiate the LLM Model"
   ]
  },
  {
   "cell_type": "code",
   "execution_count": 6,
   "id": "5fde0e0d-00de-404b-a78c-beaa866c9bc8",
   "metadata": {},
   "outputs": [],
   "source": [
    "from langchain_openai import ChatOpenAI\n",
    "\n",
    "llm = ChatOpenAI(model=\"gpt-4o-mini\")"
   ]
  },
  {
   "cell_type": "markdown",
   "id": "7da0f216-06e1-43a7-a328-5358a595d2df",
   "metadata": {},
   "source": [
    "## Step 4 - 2 Prepare the required components and chain it"
   ]
  },
  {
   "cell_type": "code",
   "execution_count": 7,
   "id": "074f7ab3-0ebd-44d8-b8d2-3a878cd9439f",
   "metadata": {},
   "outputs": [],
   "source": [
    "from langchain_core.output_parsers import StrOutputParser\n",
    "from langchain_core.prompts import ChatPromptTemplate\n",
    "from langchain_core.runnables import RunnablePassthrough\n",
    "\n",
    "# This prompt should provide answer based on the context\n",
    "prompt = ChatPromptTemplate.from_template(\n",
    "    \"\"\"\n",
    "    Answer the question based only on the context provided.\n",
    "    Context: {context}\n",
    "    Question: {question}\n",
    "    \"\"\"\n",
    ")\n",
    "\n",
    "# Helper method to join the documents\n",
    "def format_docs(docs):\n",
    "    return \"\\n\\n\".join(doc.page_content for doc in docs)\n",
    "\n",
    "# Chaining retriever with format_docs to context should \n",
    "# retrieve the documents related to the document\n",
    "chain = (\n",
    "    {\"context\": retriever | format_docs, \"question\": RunnablePassthrough()}\n",
    "    | prompt\n",
    "    | llm\n",
    "    | StrOutputParser()\n",
    ")"
   ]
  },
  {
   "cell_type": "markdown",
   "id": "4f530866-c1b5-4e3a-975f-9433e85ca910",
   "metadata": {},
   "source": [
    "## Step 5 Testing some sample"
   ]
  },
  {
   "cell_type": "code",
   "execution_count": 8,
   "id": "6d886dc3-f816-48e5-9a8b-13a3fb7a5034",
   "metadata": {},
   "outputs": [
    {
     "data": {
      "text/plain": [
       "'The capital city of Malaysia is Kuala Lumpur.'"
      ]
     },
     "execution_count": 8,
     "metadata": {},
     "output_type": "execute_result"
    }
   ],
   "source": [
    "chain.invoke(\"Which city is the capital of Malaysia?\")"
   ]
  },
  {
   "cell_type": "code",
   "execution_count": 9,
   "id": "06ed7e3d-7a75-4c80-994f-4d26700f3cca",
   "metadata": {},
   "outputs": [
    {
     "data": {
      "text/plain": [
       "'The capital of Malaysia is Kuala Lumpur, and the name \"Kuala Lumpur\" is derived from the Malay words \"kuala,\" meaning \"confluence,\" and \"lumpur,\" meaning \"mud.\" The name refers to the city\\'s location at the confluence of the Gombak and Klang rivers, where muddy rivers meet.'"
      ]
     },
     "execution_count": 9,
     "metadata": {},
     "output_type": "execute_result"
    }
   ],
   "source": [
    "chain.invoke(\"Which city is the capital of Malaysia and how does the city get the name?\")"
   ]
  },
  {
   "cell_type": "code",
   "execution_count": 10,
   "id": "cc061778-be9a-4247-94a4-c4dc6cfa7204",
   "metadata": {},
   "outputs": [
    {
     "data": {
      "text/plain": [
       "\"Malaysia has a competitive advantage in several industries, including:\\n\\n1. **Semiconductor Industry**: Malaysia is an important nexus in the global semiconductor market and is the third largest exporter of semiconductor devices in the world. The country has plans to target US$100 billion in investment to further establish itself as a global semiconductor hub.\\n\\n2. **Manufacturing**: The manufacturing sector has a large influence on Malaysia's economy, accounting for over 40% of the GDP. Malaysia has developed vertical and horizontal integration across several export-linked industries, capturing significant global market share for manufactured products.\\n\\n3. **High-Tech Products**: The export value of high-tech products from Malaysia was around US$66 billion in 2022, making it the third highest in ASEAN.\\n\\n4. **Palm Oil**: Malaysia exports the second largest volume and value of palm oil products globally, after Indonesia.\\n\\n5. **Artificial Intelligence and Cloud Computing**: The country has attracted significant foreign direct investment in the global artificial intelligence boom and is positioning itself as a cloud computing hub for wider Asia due to its highly educated workforce and low operational costs.\\n\\nOverall, Malaysia's economy is robust and diversified, with strong export activities exceeding 76% of its GDP.\""
      ]
     },
     "execution_count": 10,
     "metadata": {},
     "output_type": "execute_result"
    }
   ],
   "source": [
    "chain.invoke(\"What industries do Malaysia has competitive advantage?\")"
   ]
  },
  {
   "cell_type": "code",
   "execution_count": null,
   "id": "242789e2-78cf-4dc2-8d41-a56d43b470a9",
   "metadata": {},
   "outputs": [],
   "source": []
  }
 ],
 "metadata": {
  "kernelspec": {
   "display_name": "Python 3 (ipykernel)",
   "language": "python",
   "name": "python3"
  },
  "language_info": {
   "codemirror_mode": {
    "name": "ipython",
    "version": 3
   },
   "file_extension": ".py",
   "mimetype": "text/x-python",
   "name": "python",
   "nbconvert_exporter": "python",
   "pygments_lexer": "ipython3",
   "version": "3.12.5"
  }
 },
 "nbformat": 4,
 "nbformat_minor": 5
}
